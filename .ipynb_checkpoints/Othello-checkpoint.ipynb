{
 "cells": [
  {
   "cell_type": "code",
   "execution_count": 1,
   "metadata": {},
   "outputs": [
    {
     "name": "stdout",
     "output_type": "stream",
     "text": [
      "[[ 0.  0.  0.  0.  0.  0.  0.  0.]\n",
      " [ 0.  0.  0.  0.  0.  0.  0.  0.]\n",
      " [ 0.  0.  0.  0.  0.  0.  0.  0.]\n",
      " [ 0.  0.  0.  1. -1.  0.  0.  0.]\n",
      " [ 0.  0.  0. -1.  1.  0.  0.  0.]\n",
      " [ 0.  0.  0.  0.  0.  0.  0.  0.]\n",
      " [ 0.  0.  0.  0.  0.  0.  0.  0.]\n",
      " [ 0.  0.  0.  0.  0.  0.  0.  0.]]\n"
     ]
    }
   ],
   "source": [
    "import numpy as np\n",
    "\n",
    "class State:\n",
    "    def __init__(self, *input):\n",
    "        self.origin = None\n",
    "        self.destin = None\n",
    "        self.heuristic = 0\n",
    "        self.pieces_taken = []\n",
    "        self.board = board\n",
    "        if len(input)>1:\n",
    "            self.origin = input[0]\n",
    "            self.destin = input[1]\n",
    "            self.heuristic = input[2]\n",
    "            self.pieces_taken = input[3]\n",
    "            self.board = input[4]\n",
    "\n",
    "def initialize_board():\n",
    "    board = np.zeros((8,8))\n",
    "    board[3][3], board[4][4] = 1,1\n",
    "    board[4][3], board[3][4] = -1,-1\n",
    "    return board\n",
    "\n",
    "print(initialize_board())"
   ]
  },
  {
   "cell_type": "code",
   "execution_count": 2,
   "metadata": {},
   "outputs": [],
   "source": [
    "def alpha_beta_search(state, player):\n",
    "    if player == \"max\":\n",
    "        return max_value(state, np.Inf, np.NINF)\n",
    "    return min_value(state, np.Inf, np.NINF)\n",
    "\n",
    "def terminal_test(state):\n",
    "    return False\n",
    "\n",
    "def utility(state):\n",
    "    return _\n",
    "\n",
    "def list_actions(state, player):\n",
    "    token = 1\n",
    "    if player == \"min\" : token = -1\n",
    "    enemy_indexes = np.where(state == token)\n",
    "    enemy_coordinates= list(zip(enemy_indexes[0], enemy_indexes[1]))\n",
    "    return enemy_coordinates\n",
    "\n",
    "def min_value(state, alpha, beta):\n",
    "    if(terminal_test(state)): return utility(state)\n",
    "    v = np.Inf\n",
    "    for action in Actions(State):\n",
    "        v = min(v, max_value(state, alpha, beta))\n",
    "        if(v<=alpha): return v\n",
    "        beta = min(beta, v)\n",
    "    return v\n",
    "\n",
    "def max_value(state, alpha, beta):\n",
    "    if(terminal_test(state)): return utility(state)\n",
    "    v = np.NINF\n",
    "    for action in Actions(State):\n",
    "        v = max(v, min_value(state, alpha, beta))\n",
    "        if(v>=beta): return v\n",
    "        alpha = max(alpha, v)\n",
    "    return v"
   ]
  },
  {
   "cell_type": "code",
   "execution_count": 3,
   "metadata": {},
   "outputs": [
    {
     "data": {
      "text/plain": [
       "[1, 2]"
      ]
     },
     "execution_count": 3,
     "metadata": {},
     "output_type": "execute_result"
    }
   ],
   "source": [
    "\n",
    "asd = {\n",
    "    0:[1,2],\n",
    "    1:[5,3]\n",
    "}\n",
    "asd2 = [5,4]\n",
    "asd3 = []\n",
    "asd[asd2.index(max(asd2))]"
   ]
  },
  {
   "cell_type": "code",
   "execution_count": 4,
   "metadata": {},
   "outputs": [
    {
     "name": "stdout",
     "output_type": "stream",
     "text": [
      "-inf\n",
      "False\n"
     ]
    }
   ],
   "source": [
    "print(np.NINF)\n",
    "np.Inf\n",
    "print(np.NINF>0)"
   ]
  },
  {
   "cell_type": "code",
   "execution_count": 5,
   "metadata": {},
   "outputs": [
    {
     "data": {
      "text/plain": [
       "(array([3, 4], dtype=int64), array([3, 4], dtype=int64))"
      ]
     },
     "execution_count": 5,
     "metadata": {},
     "output_type": "execute_result"
    }
   ],
   "source": [
    "board = np.array(initialize_board())\n",
    "indexes = np.where(board > 0)\n",
    "indexes"
   ]
  },
  {
   "cell_type": "code",
   "execution_count": 6,
   "metadata": {},
   "outputs": [
    {
     "name": "stdout",
     "output_type": "stream",
     "text": [
      "[(3, 3), (4, 4)]\n"
     ]
    }
   ],
   "source": [
    "listasd = list_actions(board, \"max\")\n",
    "print(listasd)"
   ]
  },
  {
   "cell_type": "code",
   "execution_count": 18,
   "metadata": {},
   "outputs": [
    {
     "name": "stdout",
     "output_type": "stream",
     "text": [
      "[<__main__.State object at 0x000001DCE4D52430>, <__main__.State object at 0x000001DCE38B0C70>, <__main__.State object at 0x000001DCE4E13940>, <__main__.State object at 0x000001DCE4E139D0>]\n"
     ]
    }
   ],
   "source": [
    "import copy\n",
    "\n",
    "def get_max_utility_index(states):\n",
    "    utility_list = [state.heuristic for state in states]\n",
    "    max_utility_index = utility_list.index(max(utility_list))\n",
    "    return max_utility_index\n",
    "\n",
    "def can_move_up(piece, board, player_piece):# 1 -> y  0 -> x\n",
    "    if piece[1] == 0: return False\n",
    "    if board[piece[0]][piece[1]-1] == player_piece: return False\n",
    "    if board[piece[0]][piece[1]-1] == player_piece*-1: return \"Enemy\"\n",
    "    return \"Empty\" #enemy found?\n",
    "def can_move_down(piece, board, player_piece):\n",
    "    if piece[1] == 7: return False\n",
    "    if board[piece[0]][piece[1]+1] == player_piece: return False\n",
    "    if board[piece[0]][piece[1]+1] == player_piece*-1: return \"Enemy\"\n",
    "    return \"Empty\"\n",
    "def can_move_left(piece, board, player_piece):\n",
    "    if piece[0] == 0: return False\n",
    "    if board[piece[0]-1][piece[1]] == player_piece: return False\n",
    "    if board[piece[0]-1][piece[1]] == player_piece*-1: return \"Enemy\"\n",
    "    return \"Empty\"\n",
    "def can_move_right(piece, board, player_piece):\n",
    "    if piece[0] ==7 : return False\n",
    "    if board[piece[0]+1][piece[1]] == player_piece: return False\n",
    "    if board[piece[0]+1][piece[1]] == player_piece*-1: \n",
    "        return \"Enemy\"\n",
    "    return \"Empty\"\n",
    "\n",
    "def move_up_left(piece, board, player_piece,utility=0, enemy_positions=[]):# 1 -> y  0 -> x\n",
    "    next_position = (piece[0]-1,piece[1]-1)\n",
    "    if not can_move_up(piece, board, player_piece) or not can_move_left(piece, board, player_piece) : return False,_,_,0\n",
    "    if board[piece[0]-1][piece[1]-1] == player_piece: return False,_,_,0\n",
    "    if board[next_position[0]][next_position[1]] == 0:\n",
    "        if utility>0: #Found empty space and can at least take one enemy\n",
    "            return True,(next_position),enemy_positions,utility\n",
    "        return False,_,_,0\n",
    "    enemy_positions.append(next_position)\n",
    "    return move_up_left(next_position, board, player_piece, utility+1,enemy_positions)#enemy found\n",
    "def move_up_right(piece, board, player_piece,utility=0, enemy_positions=[]):\n",
    "    next_position = (piece[0]+1,piece[1]-1)\n",
    "    if not can_move_up(piece, board, player_piece) or not can_move_right(piece, board, player_piece) : return False,_,_,0\n",
    "    if board[piece[0]+1][piece[1]-1] == player_piece: return False,_,_,0\n",
    "    if board[next_position[0]][next_position[1]] == 0: \n",
    "        if utility>0: \n",
    "            return True,(next_position),enemy_positions,utility\n",
    "        return False,_,_,0\n",
    "    enemy_positions.append(next_position)\n",
    "    return move_up_right(next_position, board, player_piece, utility+1,enemy_positions)#enemy found\n",
    "def move_down_left(piece, board, player_piece,utility=0, enemy_positions=[]):\n",
    "    next_position = (piece[0]-1,piece[1]+1)\n",
    "    if not can_move_down(piece, board, player_piece) or not can_move_left(piece, board, player_piece) : return False,_,_,0\n",
    "    if board[piece[0]-1][piece[1]+1] == player_piece: return False,_,_,0\n",
    "    if board[next_position[0]][next_position[1]] == 0:\n",
    "        if utility>0: \n",
    "            return True,(next_position),enemy_positions,utility\n",
    "        return False,_,_,0\n",
    "    enemy_positions.append(next_position)\n",
    "    return move_down_left(next_position, board, player_piece, utility+1,enemy_positions)#enemy found\n",
    "def move_down_right(piece, board, player_piece,utility=0, enemy_positions=[]):\n",
    "    next_position = (piece[0]+1,piece[1]+1)\n",
    "    if not can_move_down(piece, board, player_piece) or not can_move_right(piece, board, player_piece) : return False,_,_,0\n",
    "    if board[piece[0]+1][piece[1]+1] == player_piece: return False,_,_,0\n",
    "    if board[next_position[0]][next_position[1]] == 0:\n",
    "        if utility>0: \n",
    "            return True,(next_position),enemy_positions,utility\n",
    "        return False,_,_,0\n",
    "    enemy_positions.append(next_position)\n",
    "    return move_down_right(next_position, board, player_piece, utility+1,enemy_positions)#enemy found\n",
    "\n",
    "def move_up(piece, board, player_piece,utility=0, enemy_positions=[]):\n",
    "    next_position = (piece[0],piece[1]-1)\n",
    "    up_state = can_move_up(piece, board, player_piece)\n",
    "    if not up_state: return False,_,_,0\n",
    "    if up_state == \"Empty\":\n",
    "        if utility>0:\n",
    "            return True,(next_position),enemy_positions,utility\n",
    "        return False,_,_,0\n",
    "    enemy_positions.append(next_position)\n",
    "    return move_up(next_position, board, player_piece, utility+1,enemy_positions)\n",
    "def move_down(piece, board, player_piece,utility=0, enemy_positions=[]):\n",
    "    next_position = (piece[0],piece[1]+1)\n",
    "    down_state = can_move_down(piece, board, player_piece)\n",
    "    if not down_state: return False,_,_,0\n",
    "    if down_state == \"Empty\":\n",
    "        if utility>0:\n",
    "            return True,(next_position),enemy_positions,utility\n",
    "        return False,_,_,0\n",
    "    enemy_positions.append(next_position)\n",
    "    return move_down(next_position, board, player_piece, utility+1,enemy_positions)\n",
    "def move_right(piece, board, player_piece,utility=0, enemy_positions=[]):\n",
    "    next_position = (piece[0]+1,piece[1])\n",
    "    right_state = can_move_right(piece, board, player_piece)\n",
    "    if not right_state: return False,_,_,0\n",
    "    if right_state == \"Empty\":\n",
    "        if utility>0:\n",
    "            return True,(next_position),enemy_positions,utility\n",
    "        return False,_,_,0\n",
    "    enemy_positions.append(next_position)\n",
    "    return move_right(next_position, board, player_piece, utility+1,enemy_positions)\n",
    "def move_left(piece, board, player_piece,utility=0, enemy_positions=[]):\n",
    "    next_position = (piece[0]-1,piece[1])\n",
    "    left_state = can_move_left(piece, board, player_piece)\n",
    "    if not left_state: return False,_,_,0\n",
    "    if left_state == \"Empty\":\n",
    "        if utility>0:\n",
    "            return True,(next_position),enemy_positions,utility\n",
    "        return False,_,_,0\n",
    "    enemy_positions.append(next_position)\n",
    "    return move_left(next_position, board, player_piece, utility+1,enemy_positions)\n",
    "\n",
    "def moves(state, player):\n",
    "    moves_checker = []\n",
    "    player_pieces = list_actions(board, player)\n",
    "    player_piece = 1\n",
    "    new_states = []\n",
    "    if player == \"min\": player_piece = -1\n",
    "    for piece in player_pieces:\n",
    "        \n",
    "        can_move, move_position, enemies_taken_list, utility = move_up(piece, state.board, player_piece)\n",
    "        if can_move: new_states.append(State(piece, move_position, utility, enemies_taken_list, board))\n",
    "        can_move, move_position, enemies_taken_list, utility = move_down(piece, state.board, player_piece)\n",
    "        if can_move: new_states.append(State(piece, move_position, utility, enemies_taken_list, board))\n",
    "        can_move, move_position, enemies_taken_list, utility = move_right(piece, state.board, player_piece)\n",
    "        if can_move: new_states.append(State(piece, move_position, utility, enemies_taken_list, board))\n",
    "        can_move, move_position, enemies_taken_list, utility = move_left(piece, state.board, player_piece)\n",
    "        if can_move: new_states.append(State(piece, move_position, utility, enemies_taken_list, board))\n",
    "        \n",
    "        can_move, move_position, enemies_taken_list, utility = move_up_right(piece, state.board, player_piece)\n",
    "        if can_move: new_states.append(State(piece, move_position, utility, enemies_taken_list, enemies_taken_list, board))\n",
    "        can_move, move_position, enemies_taken_list, utility = move_up_left(piece, state.board, player_piece)\n",
    "        if can_move: new_states.append(State(piece, move_position, utility, enemies_taken_list, board))\n",
    "        can_move, move_position, enemies_taken_list, utility = move_down_right(piece, state.board, player_piece)\n",
    "        if can_move: new_states.append(State(piece, move_position, utility, enemies_taken_list, board))\n",
    "        can_move, move_position, enemies_taken_list, utility = move_down_left(piece, state.board, player_piece)\n",
    "        if can_move: new_states.append(State(piece, move_position, utility, enemies_taken_list, board))\n",
    "        \n",
    "        \n",
    "        \n",
    "    return new_states\n",
    "\n",
    "the_state = State(board)\n",
    "new_states = moves(the_state, \"max\")\n",
    "print(new_states)"
   ]
  },
  {
   "cell_type": "code",
   "execution_count": 8,
   "metadata": {},
   "outputs": [
    {
     "name": "stdout",
     "output_type": "stream",
     "text": [
      "(3, 3) (3, 5) 1 [(3, 4)]\n",
      "[[ 0.  0.  0.  0.  0.  0.  0.  0.]\n",
      " [ 0.  0.  0.  0.  0.  0.  0.  0.]\n",
      " [ 0.  0.  0.  0.  0.  0.  0.  0.]\n",
      " [ 0.  0.  0.  1. -1.  0.  0.  0.]\n",
      " [ 0.  0.  0. -1.  1.  0.  0.  0.]\n",
      " [ 0.  0.  0.  0.  0.  0.  0.  0.]\n",
      " [ 0.  0.  0.  0.  0.  0.  0.  0.]\n",
      " [ 0.  0.  0.  0.  0.  0.  0.  0.]]\n",
      "(3, 3) (5, 3) 1 [(4, 3)]\n",
      "[[ 0.  0.  0.  0.  0.  0.  0.  0.]\n",
      " [ 0.  0.  0.  0.  0.  0.  0.  0.]\n",
      " [ 0.  0.  0.  0.  0.  0.  0.  0.]\n",
      " [ 0.  0.  0.  1. -1.  0.  0.  0.]\n",
      " [ 0.  0.  0. -1.  1.  0.  0.  0.]\n",
      " [ 0.  0.  0.  0.  0.  0.  0.  0.]\n",
      " [ 0.  0.  0.  0.  0.  0.  0.  0.]\n",
      " [ 0.  0.  0.  0.  0.  0.  0.  0.]]\n",
      "(4, 4) (4, 2) 1 [(4, 3)]\n",
      "[[ 0.  0.  0.  0.  0.  0.  0.  0.]\n",
      " [ 0.  0.  0.  0.  0.  0.  0.  0.]\n",
      " [ 0.  0.  0.  0.  0.  0.  0.  0.]\n",
      " [ 0.  0.  0.  1. -1.  0.  0.  0.]\n",
      " [ 0.  0.  0. -1.  1.  0.  0.  0.]\n",
      " [ 0.  0.  0.  0.  0.  0.  0.  0.]\n",
      " [ 0.  0.  0.  0.  0.  0.  0.  0.]\n",
      " [ 0.  0.  0.  0.  0.  0.  0.  0.]]\n",
      "(4, 4) (2, 4) 1 [(3, 4)]\n",
      "[[ 0.  0.  0.  0.  0.  0.  0.  0.]\n",
      " [ 0.  0.  0.  0.  0.  0.  0.  0.]\n",
      " [ 0.  0.  0.  0.  0.  0.  0.  0.]\n",
      " [ 0.  0.  0.  1. -1.  0.  0.  0.]\n",
      " [ 0.  0.  0. -1.  1.  0.  0.  0.]\n",
      " [ 0.  0.  0.  0.  0.  0.  0.  0.]\n",
      " [ 0.  0.  0.  0.  0.  0.  0.  0.]\n",
      " [ 0.  0.  0.  0.  0.  0.  0.  0.]]\n"
     ]
    }
   ],
   "source": [
    "for state in new_states:\n",
    "    print(state.origin,state.destin,state.heuristic, state.pieces_taken)\n",
    "    print(state.board)"
   ]
  },
  {
   "cell_type": "code",
   "execution_count": 20,
   "metadata": {},
   "outputs": [
    {
     "name": "stdout",
     "output_type": "stream",
     "text": [
      "0\n",
      "[[ 0.  0.  0.  0.  0.  0.  0.  0.]\n",
      " [ 0.  0.  0.  0.  0.  0.  0.  0.]\n",
      " [ 0.  0.  0.  0.  0.  0.  0.  0.]\n",
      " [ 0.  0.  0.  1. -1.  0.  0.  0.]\n",
      " [ 0.  0.  0. -1.  1.  0.  0.  0.]\n",
      " [ 0.  0.  0.  0.  0.  0.  0.  0.]\n",
      " [ 0.  0.  0.  0.  0.  0.  0.  0.]\n",
      " [ 0.  0.  0.  0.  0.  0.  0.  0.]]\n"
     ]
    }
   ],
   "source": [
    "def get_max_utility_index(states):\n",
    "    utility_list = [state.heuristic for state in states]\n",
    "    max_utility_index = utility_list.index(max(utility_list))\n",
    "    return max_utility_index\n",
    "\n",
    "print(get_max_utility_index(new_states))\n",
    "\n",
    "print(new_states[get_max_utility_index(new_states)].board)"
   ]
  },
  {
   "cell_type": "code",
   "execution_count": 11,
   "metadata": {},
   "outputs": [
    {
     "name": "stdout",
     "output_type": "stream",
     "text": [
      "[5, 5, 5, 5]\n",
      "0\n"
     ]
    }
   ],
   "source": [
    "def print_board_changes(state):\n",
    "    for piece in state.pieces_taken:\n",
    "        state.board[piece[0]][piece[1]] = state.\n",
    "        "
   ]
  }
 ],
 "metadata": {
  "kernelspec": {
   "display_name": "SiGPU",
   "language": "python",
   "name": "sigpu"
  },
  "language_info": {
   "codemirror_mode": {
    "name": "ipython",
    "version": 3
   },
   "file_extension": ".py",
   "mimetype": "text/x-python",
   "name": "python",
   "nbconvert_exporter": "python",
   "pygments_lexer": "ipython3",
   "version": "3.8.12"
  }
 },
 "nbformat": 4,
 "nbformat_minor": 4
}

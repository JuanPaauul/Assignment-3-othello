{
 "cells": [
  {
   "cell_type": "code",
   "execution_count": 2,
   "metadata": {},
   "outputs": [
    {
     "name": "stdout",
     "output_type": "stream",
     "text": [
      "[[ 0.  0.  0.  0.  0.  0.  0.  0.]\n",
      " [ 0.  0.  0.  0.  0.  0.  0.  0.]\n",
      " [ 0.  0.  0.  0.  0.  0.  0.  0.]\n",
      " [ 0.  0.  0.  1. -1.  0.  0.  0.]\n",
      " [ 0.  0.  0. -1.  1.  0.  0.  0.]\n",
      " [ 0.  0.  0.  0.  0.  0.  0.  0.]\n",
      " [ 0.  0.  0.  0.  0.  0.  0.  0.]\n",
      " [ 0.  0.  0.  0.  0.  0.  0.  0.]]\n"
     ]
    }
   ],
   "source": [
    "import numpy as np\n",
    "\n",
    "class State:\n",
    "    def __init__(self):\n",
    "        self.origin = None\n",
    "        self.destin = None\n",
    "        self.heuristic = 0\n",
    "        self.enemies_taken = None\n",
    "        self.board = none\n",
    "\n",
    "def initialize_board():\n",
    "    board = np.zeros((8,8))\n",
    "    board[3][3], board[4][4] = 1,1\n",
    "    board[4][3], board[3][4] = -1,-1\n",
    "    return board\n",
    "\n",
    "print(initialize_board())"
   ]
  },
  {
   "cell_type": "code",
   "execution_count": 3,
   "metadata": {},
   "outputs": [],
   "source": [
    "def alpha_beta_search(state, player):\n",
    "    if player == \"max\":\n",
    "        return max_value(state, np.Inf, np.NINF)\n",
    "    return min_value(state, np.Inf, np.NINF)\n",
    "\n",
    "def terminal_test(state):\n",
    "    return False\n",
    "\n",
    "def utility(state):\n",
    "    return _\n",
    "\n",
    "def list_actions(state, player):\n",
    "    token = 1\n",
    "    if player == \"min\" : token = -1\n",
    "    enemy_indexes = np.where(state == -token)\n",
    "    enemy_coordinates= list(zip(enemy_indexes[0], enemy_indexes[1]))\n",
    "    return enemy_coordinates\n",
    "\n",
    "def min_value(state, alpha, beta):\n",
    "    if(terminal_test(state)): return utility(state)\n",
    "    v = np.Inf\n",
    "    for action in Actions(State):\n",
    "        v = min(v, max_value(state, alpha, beta))\n",
    "        if(v<=alpha): return v\n",
    "        beta = min(beta, v)\n",
    "    return v\n",
    "\n",
    "def max_value(state, alpha, beta):\n",
    "    if(terminal_test(state)): return utility(state)\n",
    "    v = np.Inf\n",
    "    for action in Actions(State):\n",
    "        v = max(v, min_value(state, alpha, beta))\n",
    "        if(v>=beta): return v\n",
    "        alpha = max(alpha, v)\n",
    "    return v"
   ]
  },
  {
   "cell_type": "code",
   "execution_count": 28,
   "metadata": {},
   "outputs": [
    {
     "data": {
      "text/plain": [
       "[1, 2]"
      ]
     },
     "execution_count": 28,
     "metadata": {},
     "output_type": "execute_result"
    }
   ],
   "source": [
    "\n",
    "asd = {\n",
    "    0:[1,2],\n",
    "    1:[5,3]\n",
    "}\n",
    "asd2 = [5,4]\n",
    "asd3 = []\n",
    "asd[asd2.index(max(asd2))]"
   ]
  },
  {
   "cell_type": "code",
   "execution_count": 34,
   "metadata": {},
   "outputs": [
    {
     "name": "stdout",
     "output_type": "stream",
     "text": [
      "-inf\n",
      "False\n"
     ]
    }
   ],
   "source": [
    "print(np.NINF)\n",
    "np.Inf\n",
    "print(np.NINF>0)"
   ]
  },
  {
   "cell_type": "code",
   "execution_count": 5,
   "metadata": {},
   "outputs": [
    {
     "data": {
      "text/plain": [
       "(array([3, 4], dtype=int64), array([3, 4], dtype=int64))"
      ]
     },
     "execution_count": 5,
     "metadata": {},
     "output_type": "execute_result"
    }
   ],
   "source": [
    "board = np.array(initialize_board())\n",
    "indexes = np.where(board > 0)\n",
    "indexes"
   ]
  },
  {
   "cell_type": "code",
   "execution_count": 4,
   "metadata": {},
   "outputs": [
    {
     "ename": "NameError",
     "evalue": "name 'indexes' is not defined",
     "output_type": "error",
     "traceback": [
      "\u001b[1;31m---------------------------------------------------------------------------\u001b[0m",
      "\u001b[1;31mNameError\u001b[0m                                 Traceback (most recent call last)",
      "\u001b[1;32m<ipython-input-4-236d55823a59>\u001b[0m in \u001b[0;36m<module>\u001b[1;34m\u001b[0m\n\u001b[1;32m----> 1\u001b[1;33m \u001b[0mlistOfCoordinates\u001b[0m\u001b[1;33m=\u001b[0m \u001b[0mlist\u001b[0m\u001b[1;33m(\u001b[0m\u001b[0mzip\u001b[0m\u001b[1;33m(\u001b[0m\u001b[0mindexes\u001b[0m\u001b[1;33m[\u001b[0m\u001b[1;36m0\u001b[0m\u001b[1;33m]\u001b[0m\u001b[1;33m,\u001b[0m \u001b[0mindexes\u001b[0m\u001b[1;33m[\u001b[0m\u001b[1;36m1\u001b[0m\u001b[1;33m]\u001b[0m\u001b[1;33m)\u001b[0m\u001b[1;33m)\u001b[0m\u001b[1;33m\u001b[0m\u001b[1;33m\u001b[0m\u001b[0m\n\u001b[0m\u001b[0;32m      2\u001b[0m \u001b[0mprint\u001b[0m\u001b[1;33m(\u001b[0m\u001b[0mlistOfCoordinates\u001b[0m\u001b[1;33m)\u001b[0m\u001b[1;33m\u001b[0m\u001b[1;33m\u001b[0m\u001b[0m\n\u001b[0;32m      3\u001b[0m \u001b[1;32mfor\u001b[0m \u001b[0mcord\u001b[0m \u001b[1;32min\u001b[0m \u001b[0mlistOfCoordinates\u001b[0m\u001b[1;33m:\u001b[0m\u001b[1;33m\u001b[0m\u001b[1;33m\u001b[0m\u001b[0m\n\u001b[0;32m      4\u001b[0m     \u001b[0mprint\u001b[0m\u001b[1;33m(\u001b[0m\u001b[0mcord\u001b[0m\u001b[1;33m)\u001b[0m\u001b[1;33m\u001b[0m\u001b[1;33m\u001b[0m\u001b[0m\n\u001b[0;32m      5\u001b[0m \u001b[1;33m\u001b[0m\u001b[0m\n",
      "\u001b[1;31mNameError\u001b[0m: name 'indexes' is not defined"
     ]
    }
   ],
   "source": [
    "listOfCoordinates= list_actions(board, \"max\")\n",
    "print(listOfCoordinates)\n",
    "for cord in listOfCoordinates:\n",
    "    print(cord)\n",
    "    \n",
    "    "
   ]
  },
  {
   "cell_type": "code",
   "execution_count": 10,
   "metadata": {},
   "outputs": [
    {
     "name": "stdout",
     "output_type": "stream",
     "text": [
      "[(3, 4), (4, 3)]\n"
     ]
    }
   ],
   "source": [
    "listasd = list_actions(board, \"max\")\n",
    "print(listasd)"
   ]
  },
  {
   "cell_type": "code",
   "execution_count": null,
   "metadata": {},
   "outputs": [],
   "source": [
    "def moves(state, player):\n",
    "    possible_moves = []\n",
    "    player_moves = list_actions(player)\n",
    "    for move in player_moves:\n",
    "        if move == (0,0):\n",
    "            \n",
    "    return possible_moves"
   ]
  }
 ],
 "metadata": {
  "kernelspec": {
   "display_name": "SiGPU",
   "language": "python",
   "name": "sigpu"
  },
  "language_info": {
   "codemirror_mode": {
    "name": "ipython",
    "version": 3
   },
   "file_extension": ".py",
   "mimetype": "text/x-python",
   "name": "python",
   "nbconvert_exporter": "python",
   "pygments_lexer": "ipython3",
   "version": "3.8.12"
  }
 },
 "nbformat": 4,
 "nbformat_minor": 4
}
